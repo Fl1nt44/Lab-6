{
 "cells": [
  {
   "cell_type": "markdown",
   "metadata": {},
   "source": [
    "# Работа со строковыми значениями"
   ]
  },
  {
   "cell_type": "markdown",
   "metadata": {},
   "source": [
    "__Автор задач: Блохин Н.В. (NVBlokhin@fa.ru)__\n",
    "\n",
    "Материалы:\n",
    "* Макрушин С.В. Лекция \"Работа со строковыми значениям\"\n",
    "* https://pyformat.info/\n",
    "* https://docs.python.org/3/library/re.html\n",
    "    * https://docs.python.org/3/library/re.html#flags\n",
    "    * https://docs.python.org/3/library/re.html#functions\n",
    "* https://pythonru.com/primery/primery-primeneniya-regulyarnyh-vyrazheniy-v-python\n",
    "* https://kanoki.org/2019/11/12/how-to-use-regex-in-pandas/\n",
    "* https://realpython.com/nltk-nlp-python/"
   ]
  },
  {
   "cell_type": "markdown",
   "metadata": {},
   "source": [
    "## Задачи для совместного разбора"
   ]
  },
  {
   "cell_type": "markdown",
   "metadata": {},
   "source": [
    "1. Вывести на экран данные из словаря `obj` построчно в виде `k = v`, задав формат таким образом, чтобы знак равенства оказался на одной и той же позиции во всех строках. Строковые литералы обернуть в кавычки."
   ]
  },
  {
   "cell_type": "code",
   "execution_count": 1,
   "metadata": {},
   "outputs": [],
   "source": [
    "obj = {\n",
    "    \"home_page\": \"https://github.com/pypa/sampleproject\",\n",
    "    \"keywords\": \"sample setuptools development\",\n",
    "    \"license\": \"MIT\",\n",
    "}"
   ]
  },
  {
   "cell_type": "markdown",
   "metadata": {},
   "source": [
    "2. Написать регулярное выражение,которое позволит найти номера групп студентов."
   ]
  },
  {
   "cell_type": "code",
   "execution_count": 4,
   "metadata": {},
   "outputs": [
    {
     "data": {
      "text/plain": [
       "0    Евгения гр.ПМ19-1\n",
       "1         Илья пм 20-4\n",
       "2            Анна 20-3\n",
       "dtype: object"
      ]
     },
     "execution_count": 4,
     "metadata": {},
     "output_type": "execute_result"
    }
   ],
   "source": [
    "obj = pd.Series([\"Евгения гр.ПМ19-1\", \"Илья пм 20-4\", \"Анна 20-3\"])\n",
    "obj"
   ]
  },
  {
   "cell_type": "markdown",
   "metadata": {},
   "source": [
    "3. Разбейте текст формулировки задачи 2 на слова."
   ]
  },
  {
   "cell_type": "markdown",
   "metadata": {},
   "source": [
    "## Лабораторная работа 6"
   ]
  },
  {
   "cell_type": "markdown",
   "metadata": {},
   "source": [
    "### Форматирование строк"
   ]
  },
  {
   "cell_type": "markdown",
   "metadata": {},
   "source": [
    "1\\. Загрузите данные из файла `recipes_sample.csv` (__ЛР2__) в виде `pd.DataFrame` `recipes` При помощи форматирования строк выведите информацию об id рецепта и времени выполнения 5 случайных рецептов в виде таблицы следующего вида:\n",
    "\n",
    "    \n",
    "    |      id      |  minutes  |\n",
    "    |--------------------------|\n",
    "    |    61178     |    65     |\n",
    "    |    202352    |    80     |\n",
    "    |    364322    |    150    |\n",
    "    |    26177     |    20     |\n",
    "    |    224785    |    35     |\n",
    "    \n",
    "Обратите внимание, что ширина столбцов заранее неизвестна и должна рассчитываться динамически, в зависимости от тех данных, которые были выбраны. "
   ]
  },
  {
   "cell_type": "code",
   "execution_count": 1,
   "metadata": {},
   "outputs": [
    {
     "name": "stdout",
     "output_type": "stream",
     "text": [
      "    id  minutes\n",
      " 83479       75\n",
      "278808       37\n",
      "176700       80\n",
      " 67921       35\n",
      "228072       15\n"
     ]
    }
   ],
   "source": [
    "import pandas as pd\n",
    "\n",
    "# загрузка данных из файла\n",
    "recipes = pd.read_csv('data/recipes_sample.csv')\n",
    "\n",
    "# выбор 5 случайных рецептов\n",
    "random_recipes = recipes.sample(n=5)\n",
    "\n",
    "# вывод информации об id рецепта и времени выполнения\n",
    "print(random_recipes[['id', 'minutes']].to_string(index=False))\n"
   ]
  },
  {
   "cell_type": "markdown",
   "metadata": {},
   "source": [
    "2\\. Напишите функцию `show_info`, которая по данным о рецепте создает строку (в смысле объекта python) с описанием следующего вида:\n",
    "\n",
    "```\n",
    "\"Название Из Нескольких Слов\"\n",
    "\n",
    "1. Шаг 1\n",
    "2. Шаг 2\n",
    "----------\n",
    "Автор: contributor_id\n",
    "Среднее время приготовления: minutes минут\n",
    "```\n",
    "\n",
    "    \n",
    "Данные для создания строки получите из файлов `recipes_sample.csv` (__ЛР2__) и `steps_sample.xml` (__ЛР3__). \n",
    "Вызовите данную функцию для рецепта с id `170895` и выведите (через `print`) полученную строку на экран."
   ]
  },
  {
   "cell_type": "code",
   "execution_count": 21,
   "metadata": {},
   "outputs": [
    {
     "name": "stdout",
     "output_type": "stream",
     "text": [
      "Leeks And Parsnips  Sauteed Or Creamed\n",
      "\n",
      "1. clean the leeks and discard the dark green portions\n",
      "2. cut the leeks lengthwise then into one-inch pieces\n",
      "3. melt the butter in a medium skillet , med\n",
      "4. heat\n",
      "5. add the garlic and fry 'til fragrant\n",
      "6. add leeks and fry until the leeks are tender , about 6-minutes\n",
      "7. meanwhile , peel and chunk the parsnips into one-inch pieces\n",
      "8. place in a steaming basket and steam 'til they are as tender as you prefer\n",
      "9. i like them fork-tender\n",
      "10. drain parsnips and add to the skillet with the leeks\n",
      "11. add salt and pepper\n",
      "12. gently sautee together for 5-minutes\n",
      "13. at this point you can serve it , or continue on and cream it:\n",
      "14. in a jar with a screw top , add the half-n-half and arrowroot\n",
      "15. shake 'til blended\n",
      "16. turn heat to low under the leeks and parsnips\n",
      "17. pour in the arrowroot mixture , stirring gently as you pour\n",
      "18. if too thick , gradually add the water\n",
      "19. let simmer for a couple of minutes\n",
      "20. taste to adjust seasoning , probably an additional 1 / 2 teaspoon salt\n",
      "21. serve warm\n",
      "----------\n",
      "Автор: 8377\n",
      "Среднее время приготовления: 27 минут\n"
     ]
    }
   ],
   "source": [
    "import csv\n",
    "import xml.etree.ElementTree as ET\n",
    "\n",
    "def show_info(recipe_id):\n",
    "    # читаем данные из csv файла\n",
    "    with open('data/recipes_sample.csv') as f:\n",
    "        reader = csv.DictReader(f)\n",
    "        for row in reader:\n",
    "            if row['id'] == str(recipe_id):\n",
    "                recipe_name = row['name'].title()\n",
    "                author_id = row['contributor_id']\n",
    "                cook_time = row['minutes']\n",
    "                break\n",
    "    \n",
    "    # читаем данные из xml файла\n",
    "    with open('data/steps_sample.xml') as f:\n",
    "        xml_data = f.read()\n",
    "        root = ET.fromstring(xml_data)\n",
    "        steps = root.find(f\"./recipe[id='{recipe_id}']/steps\")\n",
    "        step_list = [step.text.strip() for step in steps]\n",
    "\n",
    "    # формируем строку с описанием рецепта\n",
    "    recipe_info = f\"{recipe_name}\\n\\n\"\n",
    "    recipe_info += '\\n'.join([f\"{i+1}. {step}\" for i, step in enumerate(step_list)])\n",
    "    recipe_info += '\\n----------\\n'\n",
    "    recipe_info += f\"Автор: {author_id}\\n\"\n",
    "    recipe_info += f\"Среднее время приготовления: {cook_time} минут\"\n",
    "\n",
    "    return recipe_info\n",
    "\n",
    "# вызываем функцию для рецепта с id 170895 и выводим результат на экран\n",
    "print(show_info(170895))\n"
   ]
  },
  {
   "cell_type": "markdown",
   "metadata": {},
   "source": [
    "## Работа с регулярными выражениями"
   ]
  },
  {
   "cell_type": "markdown",
   "metadata": {},
   "source": [
    "3\\. Напишите регулярное выражение, которое ищет следующий паттерн в строке: число (1 цифра или более), затем пробел, затем слова: hour или hours или minute или minutes. Произведите поиск по данному регулярному выражению в каждом шаге рецепта с id 25082. Выведите на экран все непустые результаты, найденные по данному шаблону."
   ]
  },
  {
   "cell_type": "code",
   "execution_count": 22,
   "metadata": {},
   "outputs": [
    {
     "name": "stdout",
     "output_type": "stream",
     "text": [
      "['minutes']\n",
      "['minutes']\n",
      "['hours']\n",
      "['minutes']\n",
      "['minutes', 'minutes']\n"
     ]
    }
   ],
   "source": [
    "import re\n",
    "import xml.etree.ElementTree as ET\n",
    "\n",
    "# читаем данные из xml файла\n",
    "with open('data/steps_sample.xml') as f:\n",
    "    xml_data = f.read()\n",
    "    root = ET.fromstring(xml_data)\n",
    "    steps = root.find(\"./recipe[id='25082']/steps\")\n",
    "    step_list = [step.text.strip() for step in steps]\n",
    "\n",
    "# регулярное выражение для поиска шаблона в строке\n",
    "pattern = r\"\\d+\\s+(hour|hours|minute|minutes)\\b\"\n",
    "\n",
    "# производим поиск по данному регулярному выражению в каждом шаге рецепта\n",
    "for step in step_list:\n",
    "    matches = re.findall(pattern, step)\n",
    "    if matches:\n",
    "        print(matches)\n"
   ]
  },
  {
   "cell_type": "markdown",
   "metadata": {},
   "source": [
    "4\\. Напишите регулярное выражение, которое ищет шаблон вида \"this..., but\" _в начале строки_ . Между словом \"this\" и частью \", but\" может находиться произвольное число букв, цифр, знаков подчеркивания и пробелов. Никаких других символов вместо многоточия быть не может. Пробел между запятой и словом \"but\" может присутствовать или отсутствовать.\n",
    "\n",
    "Используя строковые методы `pd.Series`, выясните, для каких рецептов данный шаблон содержится в тексте описания. Выведите на экран количество таких рецептов и 3 примера подходящих описаний (текст описания должен быть виден на экране полностью)."
   ]
  },
  {
   "cell_type": "code",
   "execution_count": 49,
   "metadata": {},
   "outputs": [
    {
     "name": "stdout",
     "output_type": "stream",
     "text": [
      "Количество рецептов, которые содержат шаблон: 141\n",
      "Примеры описаний:\n",
      "this recipe requires a full day of cooking but the effort is worth it.  my mom got this recipe over 50 years ago from an italian friend.  the baking soda is the secret ingredient to making this recipe a success so don't eliminate it.  when finished, it can almost be eaten with a fork.  i quadruple the recipe so i have some to freeze.\n",
      "this buttery and nutty chocolate confection was inspired by the nuts that fall from ohio's famous buckeye trees. come holiday time, they are produced (and consumed) in mass quantities in \"the buckeye state,\" as well as in neighboring states throughout the midwest. note: you may substitute peanut or cashew butter for almond butter; omit almond extract if you use a substitution.\n",
      "this is a morroccan recipe for homemade almond butter.  making it yourself lets you control the sodium and oil content.  store in an airtight container for use in place of peanut butter for a change of pace.\n"
     ]
    }
   ],
   "source": [
    "import pandas as pd\n",
    "import re\n",
    "\n",
    "# Чтение данных из файла\n",
    "recipes = pd.read_csv(\"data/recipes_sample.csv\")\n",
    "\n",
    "# Преобразование значений в столбце \"description\" в строки\n",
    "recipes[\"description\"] = recipes[\"description\"].astype(str)\n",
    "\n",
    "# Функция для поиска шаблона \"this..., but\" в тексте описания\n",
    "def find_pattern(description):\n",
    "    pattern = r\"^this[\\w\\s]+s*but\"\n",
    "    return re.search(pattern, description)\n",
    "\n",
    "# Применяем функцию find_pattern ко всем описаниям и сохраняем результаты в новый столбец\n",
    "recipes[\"contains_pattern\"] = recipes[\"description\"].apply(lambda x: find_pattern(x) is not None)\n",
    "\n",
    "# Фильтруем рецепты, которые содержат шаблон\n",
    "matched_recipes = recipes[recipes[\"contains_pattern\"]]\n",
    "\n",
    "# Выводим количество рецептов, которые содержат шаблон, и несколько примеров описаний\n",
    "print(f\"Количество рецептов, которые содержат шаблон: {len(matched_recipes)}\")\n",
    "print(\"Примеры описаний:\")\n",
    "for description in matched_recipes[\"description\"].head(3):\n",
    "    print(description)\n"
   ]
  },
  {
   "cell_type": "markdown",
   "metadata": {},
   "source": [
    "5\\. В текстах шагов рецептов обыкновенные дроби имеют вид \"a / b\". Используя регулярные выражения, уберите в тексте шагов рецепта с id 72367 пробелы до и после символа дроби. Выведите на экран шаги этого рецепта после их изменения."
   ]
  },
  {
   "cell_type": "code",
   "execution_count": 62,
   "metadata": {},
   "outputs": [
    {
     "name": "stdout",
     "output_type": "stream",
     "text": [
      "12.0\n"
     ]
    }
   ],
   "source": [
    "import pandas as pd\n",
    "import re\n",
    "\n",
    "# загрузка данных\n",
    "recipes_df = pd.read_csv('data/recipes_sample.csv')\n",
    "\n",
    "# получение текста шагов для рецепта с id 72367\n",
    "steps = recipes_df.loc[recipes_df['id'] == 72367, 'n_steps'].iloc[0]\n",
    "\n",
    "# убираем пробелы до и после символа дроби в тексте шагов\n",
    "steps_cleaned = re.sub(r'(\\d+)\\s*/\\s*(\\d+)', r'\\1/\\2', str(steps))\n",
    "\n",
    "# выводим очищенные шаги рецепта\n",
    "print(steps_cleaned)\n"
   ]
  },
  {
   "cell_type": "markdown",
   "metadata": {},
   "source": [
    "### Сегментация текста"
   ]
  },
  {
   "cell_type": "markdown",
   "metadata": {},
   "source": [
    "6\\. Разбейте тексты шагов рецептов на слова при помощи пакета `nltk`. Посчитайте и выведите на экран кол-во уникальных слов среди всех рецептов. Словом называется любая последовательность алфавитных символов (для проверки можно воспользоваться `str.isalpha`). При подсчете количества уникальных слов не учитывайте регистр."
   ]
  },
  {
   "cell_type": "code",
   "execution_count": 65,
   "metadata": {},
   "outputs": [
    {
     "name": "stdout",
     "output_type": "stream",
     "text": [
      "Requirement already satisfied: nltk in /opt/anaconda3/lib/python3.9/site-packages (3.7)\n",
      "Requirement already satisfied: click in /opt/anaconda3/lib/python3.9/site-packages (from nltk) (8.0.4)\n",
      "Requirement already satisfied: regex>=2021.8.3 in /opt/anaconda3/lib/python3.9/site-packages (from nltk) (2022.3.15)\n",
      "Requirement already satisfied: joblib in /opt/anaconda3/lib/python3.9/site-packages (from nltk) (1.1.0)\n",
      "Requirement already satisfied: tqdm in /opt/anaconda3/lib/python3.9/site-packages (from nltk) (4.64.0)\n",
      "\n",
      "\u001b[1m[\u001b[0m\u001b[34;49mnotice\u001b[0m\u001b[1;39;49m]\u001b[0m\u001b[39;49m A new release of pip available: \u001b[0m\u001b[31;49m22.3.1\u001b[0m\u001b[39;49m -> \u001b[0m\u001b[32;49m23.1.2\u001b[0m\n",
      "\u001b[1m[\u001b[0m\u001b[34;49mnotice\u001b[0m\u001b[1;39;49m]\u001b[0m\u001b[39;49m To update, run: \u001b[0m\u001b[32;49m/opt/anaconda3/bin/python -m pip install --upgrade pip\u001b[0m\n",
      "Note: you may need to restart the kernel to use updated packages.\n"
     ]
    }
   ],
   "source": [
    "pip install nltk"
   ]
  },
  {
   "cell_type": "code",
   "execution_count": 66,
   "metadata": {},
   "outputs": [
    {
     "name": "stderr",
     "output_type": "stream",
     "text": [
      "[nltk_data] Downloading package punkt to\n",
      "[nltk_data]     /Users/freshovich/nltk_data...\n",
      "[nltk_data]   Unzipping tokenizers/punkt.zip.\n"
     ]
    },
    {
     "data": {
      "text/plain": [
       "True"
      ]
     },
     "execution_count": 66,
     "metadata": {},
     "output_type": "execute_result"
    }
   ],
   "source": [
    "nltk.download('punkt')"
   ]
  },
  {
   "cell_type": "code",
   "execution_count": 69,
   "metadata": {},
   "outputs": [],
   "source": [
    "import nltk\n",
    "import csv\n",
    "\n",
    "recipes = []\n",
    "\n",
    "with open('data/recipes_sample.csv', 'r', encoding='utf-8') as f:\n",
    "    reader = csv.reader(f)\n",
    "    for row in reader:\n",
    "        recipes.append(row)\n"
   ]
  },
  {
   "cell_type": "code",
   "execution_count": 70,
   "metadata": {},
   "outputs": [],
   "source": [
    "from nltk.tokenize import word_tokenize\n",
    "\n",
    "# Получаем список шагов рецептов\n",
    "steps = [row[6] for row in recipes[1:]]\n",
    "# Разбиваем шаги рецептов на слова\n",
    "words = []\n",
    "for step in steps:\n",
    "    words.extend(word_tokenize(step))"
   ]
  },
  {
   "cell_type": "code",
   "execution_count": 71,
   "metadata": {},
   "outputs": [
    {
     "name": "stdout",
     "output_type": "stream",
     "text": [
      "Количество уникальных слов: 22049\n"
     ]
    }
   ],
   "source": [
    "unique_words = set([word.lower() for word in words if word.isalpha()])\n",
    "print(f\"Количество уникальных слов: {len(unique_words)}\")"
   ]
  },
  {
   "cell_type": "markdown",
   "metadata": {},
   "source": [
    "7\\. Разбейте описания рецептов из `recipes` на предложения при помощи пакета `nltk`. Найдите 5 самых длинных описаний (по количеству _предложений_) рецептов в датасете и выведите строки фрейма, соответствующие этим рецептами, в порядке убывания длины."
   ]
  },
  {
   "cell_type": "code",
   "execution_count": 78,
   "metadata": {},
   "outputs": [
    {
     "name": "stdout",
     "output_type": "stream",
     "text": [
      "18408    this wonderful icing is used for icing cakes a...\n",
      "481      a translucent golden-brown crust allows the gr...\n",
      "22566    this is one of the best soups i've ever made a...\n",
      "16296    the first time i made this cake i grated a mil...\n",
      "6779     i wrote this because there are an astounding l...\n",
      "Name: description, dtype: object\n"
     ]
    }
   ],
   "source": [
    "import pandas as pd\n",
    "import nltk\n",
    "\n",
    "recipes = pd.read_csv('data/recipes_sample.csv')\n",
    "\n",
    "# преобразование данных в столбце \"description\" в строковый тип\n",
    "recipes['description'] = recipes['description'].astype(str)\n",
    "\n",
    "# разбиение описаний рецептов на предложения\n",
    "recipes['sentences'] = recipes['description'].apply(nltk.sent_tokenize)\n",
    "\n",
    "# получение длины каждого списка предложений\n",
    "recipes['num_sentences'] = recipes['sentences'].apply(len)\n",
    "\n",
    "# вывод 5 самых длинных описаний рецептов\n",
    "longest_desc = recipes.sort_values(by='num_sentences', ascending=False).head(5)['description']\n",
    "print(longest_desc)\n"
   ]
  },
  {
   "cell_type": "markdown",
   "metadata": {},
   "source": [
    "8\\. Напишите функцию, которая для заданного предложения выводит информацию о частях речи слов, входящих в предложение, в следующем виде:\n",
    "```\n",
    "PRP   VBD   DT      NNS     CC   VBD      NNS        RB   \n",
    " I  omitted the raspberries and added strawberries instead\n",
    "``` \n",
    "Для определения части речи слова можно воспользоваться `nltk.pos_tag`.\n",
    "\n",
    "Проверьте работоспособность функции на названии рецепта с id 241106.\n",
    "\n",
    "Обратите внимание, что часть речи должна находиться ровно посередине над соотвествующим словом, а между самими словами должен быть ровно один пробел.\n"
   ]
  },
  {
   "cell_type": "code",
   "execution_count": 79,
   "metadata": {},
   "outputs": [],
   "source": [
    "import nltk\n",
    "\n",
    "def print_pos_info(sentence):\n",
    "    # Токенизация предложения\n",
    "    tokens = nltk.word_tokenize(sentence)\n",
    "    # Определение частей речи для каждого слова\n",
    "    pos_tags = nltk.pos_tag(tokens)\n",
    "    # Список кортежей (слово, часть речи)\n",
    "    word_pos_pairs = [(word.lower(), pos) for word, pos in pos_tags]\n",
    "    # Вывод информации о частях речи слов\n",
    "    for word, pos in word_pos_pairs:\n",
    "        # Ширина ячейки для части речи (4 символа)\n",
    "        pos_width = 4\n",
    "        # Вывод слова\n",
    "        print(f\"{word}{' '*(pos_width-len(word))}\", end=\"\")\n",
    "        # Вывод части речи\n",
    "        print(pos)"
   ]
  },
  {
   "cell_type": "code",
   "execution_count": 83,
   "metadata": {},
   "outputs": [
    {
     "name": "stdout",
     "output_type": "stream",
     "text": [
      "eggplantJJ\n",
      "steaksNNS\n",
      "withIN\n",
      "chickpeasNNS\n",
      "fetaVBP\n",
      "cheeseJJ\n",
      "and CC\n",
      "blackJJ\n",
      "olivesNNS\n"
     ]
    }
   ],
   "source": [
    "import pandas as pd\n",
    "\n",
    "# Загрузка данных\n",
    "recipes = pd.read_csv('data/recipes_sample.csv')\n",
    "\n",
    "# Получение названия рецепта с id 241106\n",
    "recipe_name = recipes.loc[recipes['id'] == 241106, 'name'].values[0]\n",
    "\n",
    "# Вывод информации о частях речи в названии рецепта\n",
    "print_pos_info(recipe_name)"
   ]
  },
  {
   "cell_type": "code",
   "execution_count": 82,
   "metadata": {},
   "outputs": [
    {
     "name": "stderr",
     "output_type": "stream",
     "text": [
      "[nltk_data] Downloading package averaged_perceptron_tagger to\n",
      "[nltk_data]     /Users/freshovich/nltk_data...\n",
      "[nltk_data]   Unzipping taggers/averaged_perceptron_tagger.zip.\n"
     ]
    },
    {
     "data": {
      "text/plain": [
       "True"
      ]
     },
     "execution_count": 82,
     "metadata": {},
     "output_type": "execute_result"
    }
   ],
   "source": [
    "import nltk\n",
    "\n",
    "nltk.download('averaged_perceptron_tagger')"
   ]
  },
  {
   "cell_type": "code",
   "execution_count": null,
   "metadata": {},
   "outputs": [],
   "source": []
  }
 ],
 "metadata": {
  "kernelspec": {
   "display_name": "Python 3 (ipykernel)",
   "language": "python",
   "name": "python3"
  },
  "language_info": {
   "codemirror_mode": {
    "name": "ipython",
    "version": 3
   },
   "file_extension": ".py",
   "mimetype": "text/x-python",
   "name": "python",
   "nbconvert_exporter": "python",
   "pygments_lexer": "ipython3",
   "version": "3.9.12"
  }
 },
 "nbformat": 4,
 "nbformat_minor": 4
}
